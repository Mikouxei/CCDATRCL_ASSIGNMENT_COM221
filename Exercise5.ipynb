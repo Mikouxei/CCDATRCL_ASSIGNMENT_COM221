{
  "cells": [
    {
      "cell_type": "markdown",
      "metadata": {
        "id": "l13N7hRLDu5N"
      },
      "source": [
        "# Exercise 5"
      ]
    },
    {
      "cell_type": "markdown",
      "metadata": {
        "id": "n968jAmwDu5T"
      },
      "source": [
        "#### 1. Create a dictionary of your 10 favorite songs."
      ]
    },
    {
      "cell_type": "markdown",
      "metadata": {
        "id": "bzzL4oxoDu5U"
      },
      "source": [
        "Example:\n",
        "\n",
        "|KEY|VALUE|\n",
        "|---|---|\n",
        "|001|My Love|\n",
        "|002|Like a rose|"
      ]
    },
    {
      "cell_type": "code",
      "execution_count": 10,
      "metadata": {
        "id": "GvUFWTEWDu5V",
        "outputId": "a64ae34b-cda1-4f02-bb87-3d383e7feff0",
        "colab": {
          "base_uri": "https://localhost:8080/"
        }
      },
      "outputs": [
        {
          "output_type": "stream",
          "name": "stdout",
          "text": [
            "{'001': 'Satellite', '002': 'Mr. Forgettable', '003': 'Burn', '004': 'Late Night Talking', '005': 'From the Dining Table', '006': 'Daylight', '007': 'Falling', '008': 'Straydogs', '009': 'Last Summer', '010': 'Honeymoon'}\n"
          ]
        }
      ],
      "source": [
        "# put your answer here\n",
        "my_dict = {\n",
        "    \"001\": \"Satellite\",\n",
        "    \"002\": \"Mr. Forgettable\",\n",
        "    \"003\": \"Burn\",\n",
        "    \"004\": \"Late Night Talking\",\n",
        "    \"005\": \"From the Dining Table\",\n",
        "    \"006\": \"Daylight\",\n",
        "    \"007\": \"Falling\",\n",
        "    \"008\": \"Straydogs\",\n",
        "    \"009\": \"Last Summer\",\n",
        "    \"010\": \"Honeymoon\"\n",
        "}\n",
        "\n",
        "print(my_dict)"
      ]
    },
    {
      "cell_type": "markdown",
      "metadata": {
        "id": "wd5Snif0Du5X"
      },
      "source": [
        "#### 2. Loop through the dictionary by its **key** and **value**"
      ]
    },
    {
      "cell_type": "code",
      "execution_count": 11,
      "metadata": {
        "id": "tqZktLjlDu5Y",
        "outputId": "be8bb30c-f3f1-4514-ef50-62e033fe126d",
        "colab": {
          "base_uri": "https://localhost:8080/"
        }
      },
      "outputs": [
        {
          "output_type": "stream",
          "name": "stdout",
          "text": [
            "Key: 001\n",
            "Value: Satellite\n",
            "\n",
            "Key: 002\n",
            "Value: Mr. Forgettable\n",
            "\n",
            "Key: 003\n",
            "Value: Burn\n",
            "\n",
            "Key: 004\n",
            "Value: Late Night Talking\n",
            "\n",
            "Key: 005\n",
            "Value: From the Dining Table\n",
            "\n",
            "Key: 006\n",
            "Value: Daylight\n",
            "\n",
            "Key: 007\n",
            "Value: Falling\n",
            "\n",
            "Key: 008\n",
            "Value: Straydogs\n",
            "\n",
            "Key: 009\n",
            "Value: Last Summer\n",
            "\n",
            "Key: 010\n",
            "Value: Honeymoon\n",
            "\n"
          ]
        }
      ],
      "source": [
        "# put your answer here\n",
        "\n",
        "for key, value in my_dict.items():\n",
        "  print(\"Key:\", key)\n",
        "  print(\"Value:\", value)\n",
        "  print(\"\")"
      ]
    },
    {
      "cell_type": "markdown",
      "metadata": {
        "id": "xH1HIGS7Du5Y"
      },
      "source": [
        "#### 3. Add one additional song"
      ]
    },
    {
      "cell_type": "code",
      "execution_count": 12,
      "metadata": {
        "id": "Fbo_h9YmDu5Y",
        "outputId": "2bea9e40-ca5e-4cdc-a649-9ca055665fde",
        "colab": {
          "base_uri": "https://localhost:8080/"
        }
      },
      "outputs": [
        {
          "output_type": "stream",
          "name": "stdout",
          "text": [
            "Key: 001\n",
            "Value: Satellite\n",
            "\n",
            "Key: 002\n",
            "Value: Mr. Forgettable\n",
            "\n",
            "Key: 003\n",
            "Value: Burn\n",
            "\n",
            "Key: 004\n",
            "Value: Late Night Talking\n",
            "\n",
            "Key: 005\n",
            "Value: From the Dining Table\n",
            "\n",
            "Key: 006\n",
            "Value: Daylight\n",
            "\n",
            "Key: 007\n",
            "Value: Falling\n",
            "\n",
            "Key: 008\n",
            "Value: Straydogs\n",
            "\n",
            "Key: 009\n",
            "Value: Last Summer\n",
            "\n",
            "Key: 010\n",
            "Value: Honeymoon\n",
            "\n",
            "Key: 011\n",
            "Value: Miserable Man\n",
            "\n"
          ]
        }
      ],
      "source": [
        "# put your answer here\n",
        "\n",
        "my_dict[\"011\"] = \"Miserable Man\"\n",
        "\n",
        "for key, value in my_dict.items():\n",
        "  print(\"Key:\", key)\n",
        "  print(\"Value:\", value)\n",
        "  print(\"\")\n"
      ]
    },
    {
      "cell_type": "markdown",
      "metadata": {
        "id": "SzoOrl9QDu5Z"
      },
      "source": [
        "#### 4. Remove one song"
      ]
    },
    {
      "cell_type": "code",
      "execution_count": 13,
      "metadata": {
        "id": "QJQZF3boDu5Z",
        "outputId": "5493c584-bbac-4ae0-e584-16f1e70bbc6a",
        "colab": {
          "base_uri": "https://localhost:8080/"
        }
      },
      "outputs": [
        {
          "output_type": "stream",
          "name": "stdout",
          "text": [
            "Key: 001\n",
            "Value: Satellite\n",
            "\n",
            "Key: 002\n",
            "Value: Mr. Forgettable\n",
            "\n",
            "Key: 003\n",
            "Value: Burn\n",
            "\n",
            "Key: 004\n",
            "Value: Late Night Talking\n",
            "\n",
            "Key: 005\n",
            "Value: From the Dining Table\n",
            "\n",
            "Key: 006\n",
            "Value: Daylight\n",
            "\n",
            "Key: 007\n",
            "Value: Falling\n",
            "\n",
            "Key: 008\n",
            "Value: Straydogs\n",
            "\n",
            "Key: 009\n",
            "Value: Last Summer\n",
            "\n",
            "Key: 010\n",
            "Value: Honeymoon\n",
            "\n",
            "Removed Song: Miserable Man\n"
          ]
        }
      ],
      "source": [
        "# put your answer here\n",
        "\n",
        "removed_song = my_dict.pop(\"011\")\n",
        "\n",
        "for key, value in my_dict.items():\n",
        "  print(\"Key:\", key)\n",
        "  print(\"Value:\", value)\n",
        "  print(\"\")\n",
        "\n",
        "print(\"Removed Song:\", removed_song)"
      ]
    },
    {
      "cell_type": "markdown",
      "metadata": {
        "id": "fv-aVS5pDu5a"
      },
      "source": [
        "#### 5. Create a nested dictionary of your 10 favorite songs with 5 genres. Display all of the items of the nested dictionary\n",
        "\n",
        "- Each nested dictionary's key should be the genre of the song\n",
        "- Put each song in their respective genre"
      ]
    },
    {
      "cell_type": "markdown",
      "metadata": {
        "id": "dWpJVz2iDu5a"
      },
      "source": [
        "Example:\n",
        "\n",
        "\n",
        "|KEY|VALUE|\n",
        "|---|---|\n",
        "|Pop|{001, Baby}|\n",
        "|Rock|{001, Enter Sandman}|"
      ]
    },
    {
      "cell_type": "code",
      "execution_count": 37,
      "metadata": {
        "id": "tC1WLTg0Du5a",
        "outputId": "11bfb1f1-7860-4f65-bae6-d1631edaf709",
        "colab": {
          "base_uri": "https://localhost:8080/"
        }
      },
      "outputs": [
        {
          "output_type": "stream",
          "name": "stdout",
          "text": [
            "Genre: Pop\n",
            "001: Adore You\n",
            "002: Shape of You\n",
            "Genre: Alternative\n",
            "003: Cannon Beach\n",
            "004: Take Me to Church\n",
            "Genre: R&B\n",
            "005: Mad\n",
            "006: So Sick\n",
            "Genre: Hip-hop\n",
            "007: Smoke\n",
            "008: Work it\n",
            "Genre: Classic\n",
            "009: Moonlight Sonata\n",
            "0010: Ride of the Valkyries\n"
          ]
        }
      ],
      "source": [
        "# put your answer here\n",
        "\n",
        "music_dict = {\n",
        "    \"Pop\": {\n",
        "        \"001\" : \"Adore You\",\n",
        "        \"002\" : \"Shape of You\"\n",
        "        },\n",
        "    \"Alternative\": {\n",
        "        \"003\" : \"Cannon Beach\",\n",
        "        \"004\" : \"Take Me to Church\"\n",
        "        },\n",
        "    \"R&B\": {\n",
        "        \"005\" : \"Mad\",\n",
        "        \"006\" : \"So Sick\"\n",
        "        },\n",
        "    \"Hip-hop\": {\n",
        "        \"007\" : \"Smoke\",\n",
        "        \"008\" : \"Work it\"\n",
        "        },\n",
        "    \"Classic\": {\n",
        "        \"009\" : \"Moonlight Sonata\",\n",
        "        \"0010\" : \"Ride of the Valkyries\"\n",
        "        }\n",
        "}\n",
        "for genre, songs in music_dict.items():\n",
        "      print(f'Genre: {genre}')\n",
        "      for song_id, song_title in songs.items():\n",
        "        print(f'{song_id}: {song_title}')"
      ]
    },
    {
      "cell_type": "markdown",
      "metadata": {
        "id": "6Meu6RUQDu5a"
      },
      "source": [
        "#### 6. Print the first song of the first genre"
      ]
    },
    {
      "cell_type": "code",
      "execution_count": 41,
      "metadata": {
        "id": "5me0TtRUDu5b",
        "outputId": "bad774c2-6df7-4676-d8cf-817fecbffe12",
        "colab": {
          "base_uri": "https://localhost:8080/"
        }
      },
      "outputs": [
        {
          "output_type": "stream",
          "name": "stdout",
          "text": [
            "Adore You\n"
          ]
        }
      ],
      "source": [
        "# put your answer here\n",
        "\n",
        "print(music_dict[\"Pop\"][\"001\"])"
      ]
    },
    {
      "cell_type": "markdown",
      "metadata": {
        "id": "P6er5jPiDu5b"
      },
      "source": [
        "#### 7. Print the first song of the last genre"
      ]
    },
    {
      "cell_type": "code",
      "execution_count": 44,
      "metadata": {
        "id": "ya96QinqDu5b",
        "outputId": "241abc8d-4cfa-4c4f-db30-1d699f5f0163",
        "colab": {
          "base_uri": "https://localhost:8080/"
        }
      },
      "outputs": [
        {
          "output_type": "stream",
          "name": "stdout",
          "text": [
            "Moonlight Sonata\n"
          ]
        }
      ],
      "source": [
        "# put your answer here\n",
        "\n",
        "print(music_dict[\"Classic\"][\"009\"])"
      ]
    }
  ],
  "metadata": {
    "kernelspec": {
      "display_name": "Python 3",
      "language": "python",
      "name": "python3"
    },
    "language_info": {
      "codemirror_mode": {
        "name": "ipython",
        "version": 3
      },
      "file_extension": ".py",
      "mimetype": "text/x-python",
      "name": "python",
      "nbconvert_exporter": "python",
      "pygments_lexer": "ipython3",
      "version": "3.11.4"
    },
    "orig_nbformat": 4,
    "colab": {
      "provenance": []
    }
  },
  "nbformat": 4,
  "nbformat_minor": 0
}