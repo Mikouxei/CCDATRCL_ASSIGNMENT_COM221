{
  "cells": [
    {
      "cell_type": "markdown",
      "metadata": {
        "id": "h2vFiYhGzZOg"
      },
      "source": [
        "# Exercise 1"
      ]
    },
    {
      "cell_type": "markdown",
      "source": [
        "## Class Initialization"
      ],
      "metadata": {
        "id": "sRm6kPQozcaU"
      }
    },
    {
      "cell_type": "code",
      "execution_count": 1,
      "metadata": {
        "id": "b1u4Dt9mzZOi"
      },
      "outputs": [],
      "source": [
        "class Node:\n",
        "    def __init__(self, data):\n",
        "        self.data = data\n",
        "        self.next = None"
      ]
    },
    {
      "cell_type": "code",
      "execution_count": 2,
      "metadata": {
        "id": "tigvHSaHzZOj"
      },
      "outputs": [],
      "source": [
        "class LinkedList:\n",
        "\n",
        "    def __init__(self):\n",
        "        self.head = None\n",
        "\n",
        "    def traverse(self, node):\n",
        "        while node:\n",
        "            print(node.data, end=\" -> \")\n",
        "            node = node.next"
      ]
    },
    {
      "cell_type": "code",
      "execution_count": 3,
      "metadata": {
        "id": "LIkQBioVzZOk"
      },
      "outputs": [],
      "source": [
        "class DoublyLinkedList:\n",
        "\n",
        "    def __init__(self):\n",
        "        self.head = None\n",
        "\n",
        "    def traverse(self, node):\n",
        "        while node:\n",
        "            print(node.data, end=\" -> \")\n",
        "            node = node.next"
      ]
    },
    {
      "cell_type": "code",
      "execution_count": 4,
      "metadata": {
        "id": "zlxNT5EozZOl"
      },
      "outputs": [],
      "source": [
        "class CircularLinkedList:\n",
        "\n",
        "    def __init__(self):\n",
        "        self.head = None\n",
        "\n",
        "    def traverse(self, node):\n",
        "\n",
        "        head = node\n",
        "\n",
        "        while node:\n",
        "            print(node.data, end=\" -> \")\n",
        "            node = node.next\n",
        "\n",
        "            # Break to prevent infinite loop\n",
        "            if node == head:\n",
        "                break"
      ]
    },
    {
      "cell_type": "markdown",
      "metadata": {
        "id": "O68-Q1-bzZOl"
      },
      "source": [
        "#### 1. Create a Singly Linked list\n",
        "\n",
        "- Each node should contain your name and your seatmates\n",
        "- Create at least 5 nodes\n",
        "- Traverse all nodes"
      ]
    },
    {
      "cell_type": "code",
      "execution_count": 5,
      "metadata": {
        "id": "pTcx_OuPzZOl",
        "outputId": "91ed2eb7-90a2-4ebe-a213-6c31f00a4c1b",
        "colab": {
          "base_uri": "https://localhost:8080/"
        }
      },
      "outputs": [
        {
          "output_type": "stream",
          "name": "stdout",
          "text": [
            "1 -> 2 -> 3 -> 4 -> 5 -> "
          ]
        }
      ],
      "source": [
        "linked_list = LinkedList()\n",
        "\n",
        "linked_list.miko = Node(1)\n",
        "rovic = Node(2)\n",
        "andrew = Node(3)\n",
        "allen = Node(4)\n",
        "gian = Node(5)\n",
        "\n",
        "linked_list.miko.next = rovic\n",
        "rovic.next = andrew\n",
        "andrew.next = allen\n",
        "allen.next = gian\n",
        "gian.next = None\n",
        "\n",
        "linked_list.traverse(linked_list.miko)"
      ]
    },
    {
      "cell_type": "markdown",
      "metadata": {
        "id": "IFgwbdw_zZOm"
      },
      "source": [
        "#### 2. Create a Doubly Linked list\n",
        "\n",
        "- Each node should contain your name and your seatmates\n",
        "- Create at least 5 nodes\n",
        "- Traverse all nodes"
      ]
    },
    {
      "cell_type": "code",
      "execution_count": 6,
      "metadata": {
        "id": "8kQD2A_QzZOm",
        "outputId": "28b4a611-d161-4472-9b64-22619de8fe05",
        "colab": {
          "base_uri": "https://localhost:8080/"
        }
      },
      "outputs": [
        {
          "output_type": "stream",
          "name": "stdout",
          "text": [
            "Miko's value (head) is : 1\n",
            "Miko's next value (head) is : 2\n",
            "\n",
            "Rovic's value is : 2\n",
            "Rovic's previous value is : 1\n",
            "Rovic's next value is : 3\n",
            "\n",
            "Andrew's value is : 3\n",
            "Andrew's previous value is : 2\n",
            "Andrew's next value is : 4\n",
            "\n",
            "Allen's value is : 4\n",
            "Allen's previous value is : 3\n",
            "Allen's next value is : 5\n",
            "\n",
            "Gian's value is : 5\n",
            "Gian's previous value is : 4\n",
            "\n",
            "1 -> 2 -> 3 -> 4 -> 5 -> "
          ]
        }
      ],
      "source": [
        "doubly_linked_list = DoublyLinkedList()\n",
        "\n",
        "doubly_linked_list.miko = Node(1)\n",
        "rovic = Node(2)\n",
        "andrew = Node(3)\n",
        "allen = Node (4)\n",
        "gian = Node (5)\n",
        "\n",
        "doubly_linked_list.miko.prev = None\n",
        "doubly_linked_list.miko.next = rovic\n",
        "\n",
        "rovic.prev = doubly_linked_list.miko\n",
        "rovic.next = andrew\n",
        "\n",
        "andrew.prev = rovic\n",
        "andrew.next = allen\n",
        "\n",
        "allen.prev = andrew\n",
        "allen.next = gian\n",
        "\n",
        "gian.prev = allen\n",
        "gian.next = None\n",
        "\n",
        "print(\"Miko's value (head) is :\", doubly_linked_list.miko.data)\n",
        "print(\"Miko's next value (head) is :\", doubly_linked_list.miko.next.data)\n",
        "\n",
        "print(\"\")\n",
        "\n",
        "print(\"Rovic's value is :\", rovic.data)\n",
        "print(\"Rovic's previous value is :\", rovic.prev.data)\n",
        "print(\"Rovic's next value is :\", rovic.next.data)\n",
        "\n",
        "print(\"\")\n",
        "\n",
        "print(\"Andrew's value is :\", andrew.data)\n",
        "print(\"Andrew's previous value is :\", andrew.prev.data)\n",
        "print(\"Andrew's next value is :\", andrew.next.data)\n",
        "\n",
        "print(\"\")\n",
        "\n",
        "print(\"Allen's value is :\", allen.data)\n",
        "print(\"Allen's previous value is :\", allen.prev.data)\n",
        "print(\"Allen's next value is :\", allen.next.data)\n",
        "\n",
        "print(\"\")\n",
        "\n",
        "print(\"Gian's value is :\", gian.data)\n",
        "print(\"Gian's previous value is :\", gian.prev.data)\n",
        "\n",
        "print(\"\")\n",
        "\n",
        "doubly_linked_list.traverse(doubly_linked_list.miko)"
      ]
    },
    {
      "cell_type": "markdown",
      "metadata": {
        "id": "rtApbsCjzZOm"
      },
      "source": [
        "#### 3. Create a Circular Linked list\n",
        "\n",
        "- Each node should contain your name and your seatmates\n",
        "- Create at least 5 nodes\n",
        "- Traverse all nodes"
      ]
    },
    {
      "cell_type": "code",
      "execution_count": 7,
      "metadata": {
        "id": "Gp1Oiq0jzZOn",
        "outputId": "bed4c67e-b652-4188-f29b-bc2eba811375",
        "colab": {
          "base_uri": "https://localhost:8080/"
        }
      },
      "outputs": [
        {
          "output_type": "stream",
          "name": "stdout",
          "text": [
            "Miko's value (head) is : 1\n",
            "Miko's next value (head) is : 2\n",
            "\n",
            "Rovic's value is : 2\n",
            "Rovic's next value is : 3\n",
            "\n",
            "Andrew's value is : 3\n",
            "Andrew's next value is : 4\n",
            "\n",
            "Allen's value is : 4\n",
            "Allen's next value is : 5\n",
            "\n",
            "Gian's value is : 5\n",
            "Gian's next value is : 1\n",
            "\n",
            "1 -> 2 -> 3 -> 4 -> 5 -> "
          ]
        }
      ],
      "source": [
        "circular_linked_list = CircularLinkedList()\n",
        "\n",
        "circular_linked_list.miko = Node(1)\n",
        "rovic = Node(2)\n",
        "andrew = Node(3)\n",
        "allen = Node (4)\n",
        "gian = Node (5)\n",
        "\n",
        "circular_linked_list.miko.next = rovic\n",
        "rovic.next = andrew\n",
        "andrew.next = allen\n",
        "allen.next = gian\n",
        "gian.next = circular_linked_list.miko\n",
        "\n",
        "print(\"Miko's value (head) is :\", circular_linked_list.miko.data)\n",
        "print(\"Miko's next value (head) is :\", circular_linked_list.miko.next.data)\n",
        "\n",
        "print(\"\")\n",
        "\n",
        "print(\"Rovic's value is :\", rovic.data)\n",
        "print(\"Rovic's next value is :\", rovic.next.data)\n",
        "\n",
        "print(\"\")\n",
        "\n",
        "print(\"Andrew's value is :\", andrew.data)\n",
        "print(\"Andrew's next value is :\", andrew.next.data)\n",
        "\n",
        "print(\"\")\n",
        "\n",
        "print(\"Allen's value is :\", allen.data)\n",
        "print(\"Allen's next value is :\", allen.next.data)\n",
        "\n",
        "print(\"\")\n",
        "\n",
        "print(\"Gian's value is :\", gian.data)\n",
        "print(\"Gian's next value is :\", circular_linked_list.miko.data)\n",
        "\n",
        "print(\"\")\n",
        "\n",
        "circular_linked_list.traverse(circular_linked_list.miko)\n"
      ]
    }
  ],
  "metadata": {
    "kernelspec": {
      "display_name": "Python 3",
      "language": "python",
      "name": "python3"
    },
    "language_info": {
      "name": "python",
      "version": "3.11.4"
    },
    "orig_nbformat": 4,
    "colab": {
      "provenance": []
    }
  },
  "nbformat": 4,
  "nbformat_minor": 0
}